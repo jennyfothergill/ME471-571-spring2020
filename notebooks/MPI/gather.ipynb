{
 "cells": [
  {
   "cell_type": "markdown",
   "metadata": {},
   "source": [
    "<hr style=\"border-width:4px; border-style:solid; border-color:coral\"></hr>\n",
    "\n",
    "# MPI_Gather\n",
    "\n",
    "<hr style=\"border-width:4px; border-style:solid; border-color:coral\"></hr>\n",
    "\n",
    "The function `P"
   ]
  },
  {
   "cell_type": "code",
   "execution_count": 8,
   "metadata": {},
   "outputs": [
    {
     "name": "stdout",
     "output_type": "stream",
     "text": [
      "Overwriting gather_bug.c\n"
     ]
    }
   ],
   "source": [
    "%%file gather_bug.c\n",
    "\n",
    "#include <mpi.h>\n",
    "#include <math.h>\n",
    "\n",
    "#include <stdio.h>\n",
    "#include <stdlib.h>\n",
    "\n",
    "int main(int argc, char** argv)\n",
    "{\n",
    "    MPI_Init(&argc, &argv);\n",
    "\n",
    "    int rank, nprocs;\n",
    "    MPI_Comm_rank(MPI_COMM_WORLD, &rank);\n",
    "    MPI_Comm_size(MPI_COMM_WORLD, &nprocs);\n",
    "\n",
    "\n",
    "    /* ------------------------------------ User input ---------------------------------*/\n",
    "    int N = atoi(argv[1]);\n",
    "    int use_gatherv = atoi(argv[2]);\n",
    "\n",
    "    double a = 0;\n",
    "    double b = 1;\n",
    "\n",
    "    /* ------------------------------- Numerical parameters ----------------------------*/\n",
    "\n",
    "    double Nlocal = N/nprocs;\n",
    "    double w = (b-a)/nprocs;\n",
    "\n",
    "    double dx = (b-a)/N;\n",
    "    double dx2 = dx*dx;\n",
    "\n",
    "    /* Initialize data */\n",
    "    double *const qmem = (double*) malloc((Nlocal+3)*sizeof(double));\n",
    "    double *const q = &qmem[1];\n",
    "\n",
    "    /* --------------------------------- Initialize data -------------------------------*/\n",
    "\n",
    "    double pi = 4.*atan(1.0);\n",
    "    for(int i = -1; i <= Nlocal+1; i++)\n",
    "    {\n",
    "        double x = a + rank*w + i*dx;\n",
    "        q[i] = cos(2*pi*x);        \n",
    "    }\n",
    "\n",
    "    /* ----------------------------- Write data to a file  -----------------------------*/\n",
    "\n",
    "    int node0 = 0;\n",
    "    FILE *fout;\n",
    "    double *qbig;\n",
    "    int *recvcounts;\n",
    "    int *displs;\n",
    "\n",
    "    /* Write out meta-data */\n",
    "    if (rank == 0)\n",
    "    {\n",
    "        fout = fopen(\"gather.out\",\"w\");\n",
    "        fwrite(&N,1,sizeof(int),fout);\n",
    "        fwrite(&a,1,sizeof(double),fout);\n",
    "        fwrite(&b,1,sizeof(double),fout);\n",
    "        fwrite(&use_gatherv,1,sizeof(int),fout);\n",
    "\n",
    "        qbig = (double*) malloc((N+3)*sizeof(double));\n",
    "        if (use_gatherv)\n",
    "        {\n",
    "            recvcounts = malloc(nprocs*sizeof(int));\n",
    "            displs = malloc(nprocs*sizeof(int));\n",
    "\n",
    "            for(int p = 0; p < nprocs; p++)\n",
    "            {\n",
    "                displs[p] = p*Nlocal;\n",
    "                recvcounts[p] = Nlocal+1;\n",
    "            }\n",
    "        }\n",
    "    }\n",
    "\n",
    "    if (use_gatherv)\n",
    "    {\n",
    "        MPI_Gatherv(&q[0],Nlocal,MPI_DOUBLE,\n",
    "                    qbig,recvcounts,displs,MPI_DOUBLE,\n",
    "                    node0,MPI_COMM_WORLD);        \n",
    "    }\n",
    "    else\n",
    "    {\n",
    "        MPI_Gather(&q[0],Nlocal,MPI_DOUBLE,qbig,Nlocal,MPI_DOUBLE,node0,MPI_COMM_WORLD);        \n",
    "    }\n",
    "\n",
    "    if (rank == 0)\n",
    "    {\n",
    "        fwrite(qbig,N+1,sizeof(double),fout);\n",
    "        free(qbig);\n",
    "        fclose(fout);\n",
    "    }\n",
    "    free(qmem);\n",
    "    \n",
    "    MPI_Finalize();\n",
    "}\n"
   ]
  },
  {
   "cell_type": "code",
   "execution_count": 9,
   "metadata": {},
   "outputs": [],
   "source": [
    "%%bash\n",
    "\n",
    "# Usage :  \n",
    "#\n",
    "#    $ gather <N> <gather_choice>\n",
    "#\n",
    "# where <N> is the number of mesh cells and <gather_choice> is 0 to use 'gather' and \n",
    "# 1 to use 'gatherv'\n",
    "\n",
    "rm -rf gather_bug.o gather\n",
    "\n",
    "mpicc -o gather ./gather_bug.c -lm\n",
    "\n",
    "mpirun -n 4 ./gather 32 0"
   ]
  },
  {
   "cell_type": "code",
   "execution_count": 10,
   "metadata": {},
   "outputs": [
    {
     "name": "stdout",
     "output_type": "stream",
     "text": [
      "N = 32\n",
      "\n",
      "Using MPI_Gather\n"
     ]
    }
   ],
   "source": [
    "import numpy as np\n",
    "import matplotlib.pyplot as plt\n",
    "\n",
    "# Open file for reading; use binary mode\n",
    "fout = open(\"gather.out\",\"rb\")\n",
    "\n",
    "# Read meta data\n",
    "dt_meta = np.dtype([('N','int32'),('a','d'),('b','d'),('gather_choice','int32')])\n",
    "d = np.fromfile(fout,dtype=dt_meta, count=1)[0]\n",
    "\n",
    "# create dictionary containing meta data\n",
    "parms = dict(zip(dt_meta.fields,d))\n",
    "\n",
    "# Print meta data from dictionary\n",
    "print(\"N = {N:d}\\n\".format(**parms))\n",
    "\n",
    "# Assign values in tuple directly (for use below)\n",
    "N,a,b,gather_choice = d\n",
    "\n",
    "if gather_choice == 0:\n",
    "    print(\"Using MPI_Gather\")\n",
    "else:\n",
    "    print(\"Using MPI_Gatherv\")\n",
    "\n",
    "# Read solution data\n",
    "dt_q = np.dtype([('q','d',N+1)])  \n",
    "data = np.fromfile(fout,dtype=dt_q)\n",
    "\n",
    "# Close file\n",
    "fout.close()"
   ]
  },
  {
   "cell_type": "code",
   "execution_count": 11,
   "metadata": {},
   "outputs": [
    {
     "data": {
      "image/png": "[encoded data removed]",
      "text/plain": [
       "<Figure size 432x288 with 1 Axes>"
      ]
     },
     "metadata": {
      "needs_background": "light"
     },
     "output_type": "display_data"
    }
   ],
   "source": [
    "fig = plt.figure(1)\n",
    "plt.clf()\n",
    "\n",
    "q = data[0][0]\n",
    "\n",
    "x = np.linspace(a,b,N+1)\n",
    "\n",
    "err = abs(q-np.cos(2*np.pi*x)).max()\n",
    "\n",
    "if abs(err) < 1e-15:\n",
    "    estr = 'You found all the bugs (:)))'\n",
    "else:\n",
    "    estr = 'Code still has bugs (:-(('\n",
    "\n",
    "\n",
    "if gather_choice:\n",
    "    gstr = 'Use gatherv'\n",
    "else:\n",
    "    gstr = 'Use gather'\n",
    "\n",
    "htitle = plt.title('Solution : {:s} : {:s}'.format(gstr,estr) )\n",
    "\n",
    "plt.plot(x,q,linewidth=2,color='b')\n",
    "plt.plot(x,np.cos(2*np.pi*x),'r--')\n",
    "\n",
    "plt.xlabel('x',fontsize=16)\n",
    "plt.ylabel('Solution',fontsize=16)\n",
    "plt.xlim([a,b])\n",
    "\n",
    "fig.canvas.draw()  "
   ]
  },
  {
   "cell_type": "code",
   "execution_count": null,
   "metadata": {},
   "outputs": [],
   "source": []
  }
 ],
 "metadata": {
  "kernelspec": {
   "display_name": "Python 3",
   "language": "python",
   "name": "python3"
  },
  "language_info": {
   "codemirror_mode": {
    "name": "ipython",
    "version": 3
   },
   "file_extension": ".py",
   "mimetype": "text/x-python",
   "name": "python",
   "nbconvert_exporter": "python",
   "pygments_lexer": "ipython3",
   "version": "3.6.7"
  }
 },
 "nbformat": 4,
 "nbformat_minor": 4
}
