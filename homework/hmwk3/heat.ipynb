{
 "cells": [
  {
   "cell_type": "code",
   "execution_count": 8,
   "metadata": {},
   "outputs": [],
   "source": [
    "%%bash\n",
    "\n",
    "gcc -o heat_serial heat_serial.c"
   ]
  },
  {
   "cell_type": "code",
   "execution_count": 9,
   "metadata": {},
   "outputs": [
    {
     "name": "stderr",
     "output_type": "stream",
     "text": [
      "\n",
      "real\t0m0.011s\n",
      "user\t0m0.003s\n",
      "sys\t0m0.002s\n"
     ]
    }
   ],
   "source": [
    "%%bash\n",
    "\n",
    "# Usage :  \n",
    "#    $ heat <N> <nout>\n",
    "# where <nout> is the number of output files to create (plus first and last time steps)\n",
    "\n",
    "time ./heat_serial 64 10"
   ]
  },
  {
   "cell_type": "code",
   "execution_count": 1,
   "metadata": {},
   "outputs": [],
   "source": [
    "import numpy as np\n",
    "import matplotlib.pyplot as plt\n",
    "import ipympl\n",
    "\n",
    "%matplotlib osx"
   ]
  },
  {
   "cell_type": "code",
   "execution_count": 2,
   "metadata": {},
   "outputs": [
    {
     "name": "stdout",
     "output_type": "stream",
     "text": [
      "N = 64\n",
      "M = 2277\n",
      "a = -1\n",
      "b = 1\n",
      "M (out) = 12\n"
     ]
    }
   ],
   "source": [
    "# Open file for reading; use binary mode\n",
    "fout = open(\"heat.out\",\"rb\")\n",
    "\n",
    "# Read meta data\n",
    "dt_meta = np.dtype([('N','int32'),('a','d'),('b','d'),('M','int32')])\n",
    "d = np.fromfile(fout,dtype=dt_meta, count=1)[0]\n",
    "\n",
    "# create dictionary containing meta data\n",
    "parms = dict(zip(dt_meta.fields,d))\n",
    "\n",
    "# Print meta data from dictionary\n",
    "print(\"N = {N:d}\\nM = {M:d}\\na = {a:g}\\nb = {b:g}\".format(**parms))\n",
    "\n",
    "# Assign values in tuple directly (for use below)\n",
    "N,a,b,M = d\n",
    "\n",
    "# Read solution data\n",
    "dt_heat = np.dtype([('t','d'),('q','d',N+1)])  \n",
    "data = np.fromfile(fout,dtype=dt_heat)\n",
    "Mout = len(data) # Number of time steps output.\n",
    "print(\"M (out) = {:d}\".format(Mout))\n",
    "\n",
    "# Close file\n",
    "fout.close()"
   ]
  },
  {
   "cell_type": "code",
   "execution_count": 3,
   "metadata": {},
   "outputs": [],
   "source": [
    "fig = plt.figure(1)\n",
    "plt.clf()\n",
    "\n",
    "q = data[0][1]\n",
    "x = np.linspace(a,b,N+1)\n",
    "\n",
    "hdl, = plt.plot(x,q,linewidth=2,color='b',label='Computed solution')\n",
    "tstr = 'Time : {:.6f}'.format\n",
    "htitle = plt.title(tstr(0))\n",
    "\n",
    "plt.xlabel('x',fontsize=16)\n",
    "plt.ylabel('q(x,t)',fontsize=16)\n",
    "plt.xlim([a,b])\n",
    "plt.ylim([-0.1,1.1])\n",
    "fig.canvas.draw()  \n",
    "\n",
    "for n in range(1,Mout):\n",
    "    t = data[n][0];\n",
    "    q = data[n][1];\n",
    "\n",
    "    hdl.set_ydata(q)\n",
    "    htitle.set_text(tstr(t))\n",
    "    \n",
    "    # Refresh plot; update title\n",
    "    fig.canvas.draw()      \n",
    "\n",
    "    plt.pause(0.2)    "
   ]
  },
  {
   "cell_type": "code",
   "execution_count": null,
   "metadata": {},
   "outputs": [],
   "source": []
  },
  {
   "cell_type": "code",
   "execution_count": null,
   "metadata": {},
   "outputs": [],
   "source": []
  }
 ],
 "metadata": {
  "kernelspec": {
   "display_name": "Python 3",
   "language": "python",
   "name": "python3"
  },
  "language_info": {
   "codemirror_mode": {
    "name": "ipython",
    "version": 3
   },
   "file_extension": ".py",
   "mimetype": "text/x-python",
   "name": "python",
   "nbconvert_exporter": "python",
   "pygments_lexer": "ipython3",
   "version": "3.6.7"
  }
 },
 "nbformat": 4,
 "nbformat_minor": 4
}
